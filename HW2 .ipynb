{
 "cells": [
  {
   "cell_type": "code",
   "execution_count": 1,
   "id": "4118bfec-94e0-4a56-9955-620337c414ef",
   "metadata": {},
   "outputs": [],
   "source": [
    "import pandas as pd\n",
    "import numpy as np\n",
    "import matplotlib.pyplot as plt\n",
    "import json\n",
    "import networkx as nx\n",
    "import seaborn as sns\n",
    "\n",
    "from urllib.request import Request, urlopen\n",
    "from urllib.parse import urlencode\n",
    "from collections import Counter\n",
    "from zipfile import ZipFile\n",
    "from io import BytesIO\n",
    "from xmltodict import parse"
   ]
  },
  {
   "cell_type": "markdown",
   "id": "4eaf89c9-2b78-4733-9413-2c69a0e45880",
   "metadata": {},
   "source": [
    "# HW2\n",
    "\n",
    "## Question #1\n",
    "\n",
    "For this question, we are going to use a data set of [the top grossing movies between 2007 and 2011](https://gist.githubusercontent.com/tiangechen/b68782efa49a16edaf07dc2cdaa855ea/raw/0c794a9717f18b094eabab2cd6a6b9a226903577/movies.csv).\n",
    "\n",
    "1. Ingest the data as a pandas data frame.\n",
    "\n",
    "2. Inspect the data and explain what it contains.\n",
    "\n",
    "3. Count how many top grossing movies each studio made between 2007 and 2011, and visualize it as a bar chart.\n",
    "\n",
    "4. Convert your bar chart above into a pie chart.\n",
    "\n",
    "5. Make a cross-tabulation of Genres against the Year, and observe that the data contains errors. Correct the errors using 'replace' method then cross-tabulate again.\n",
    "\n",
    "6. Draw a 'heat-map' of the corrected cross-tabulation you got above."
   ]
  },
  {
   "cell_type": "markdown",
   "id": "d30b407b-adf0-44c7-a9c2-8d199588efd8",
   "metadata": {},
   "source": [
    "We download data from internet."
   ]
  },
  {
   "cell_type": "code",
   "execution_count": 3,
   "id": "ad276a36-c08c-4a5b-92d1-c5103ad7607f",
   "metadata": {},
   "outputs": [
    {
     "data": {
      "text/html": [
       "<div>\n",
       "<style scoped>\n",
       "    .dataframe tbody tr th:only-of-type {\n",
       "        vertical-align: middle;\n",
       "    }\n",
       "\n",
       "    .dataframe tbody tr th {\n",
       "        vertical-align: top;\n",
       "    }\n",
       "\n",
       "    .dataframe thead th {\n",
       "        text-align: right;\n",
       "    }\n",
       "</style>\n",
       "<table border=\"1\" class=\"dataframe\">\n",
       "  <thead>\n",
       "    <tr style=\"text-align: right;\">\n",
       "      <th></th>\n",
       "      <th>Film</th>\n",
       "      <th>Genre</th>\n",
       "      <th>Lead Studio</th>\n",
       "      <th>Audience score %</th>\n",
       "      <th>Profitability</th>\n",
       "      <th>Rotten Tomatoes %</th>\n",
       "      <th>Worldwide Gross</th>\n",
       "      <th>Year</th>\n",
       "    </tr>\n",
       "  </thead>\n",
       "  <tbody>\n",
       "    <tr>\n",
       "      <th>0</th>\n",
       "      <td>Zack and Miri Make a Porno</td>\n",
       "      <td>Romance</td>\n",
       "      <td>The Weinstein Company</td>\n",
       "      <td>70</td>\n",
       "      <td>1.747542</td>\n",
       "      <td>64</td>\n",
       "      <td>$41.94</td>\n",
       "      <td>2008</td>\n",
       "    </tr>\n",
       "    <tr>\n",
       "      <th>1</th>\n",
       "      <td>Youth in Revolt</td>\n",
       "      <td>Comedy</td>\n",
       "      <td>The Weinstein Company</td>\n",
       "      <td>52</td>\n",
       "      <td>1.090000</td>\n",
       "      <td>68</td>\n",
       "      <td>$19.62</td>\n",
       "      <td>2010</td>\n",
       "    </tr>\n",
       "    <tr>\n",
       "      <th>2</th>\n",
       "      <td>You Will Meet a Tall Dark Stranger</td>\n",
       "      <td>Comedy</td>\n",
       "      <td>Independent</td>\n",
       "      <td>35</td>\n",
       "      <td>1.211818</td>\n",
       "      <td>43</td>\n",
       "      <td>$26.66</td>\n",
       "      <td>2010</td>\n",
       "    </tr>\n",
       "    <tr>\n",
       "      <th>3</th>\n",
       "      <td>When in Rome</td>\n",
       "      <td>Comedy</td>\n",
       "      <td>Disney</td>\n",
       "      <td>44</td>\n",
       "      <td>0.000000</td>\n",
       "      <td>15</td>\n",
       "      <td>$43.04</td>\n",
       "      <td>2010</td>\n",
       "    </tr>\n",
       "    <tr>\n",
       "      <th>4</th>\n",
       "      <td>What Happens in Vegas</td>\n",
       "      <td>Comedy</td>\n",
       "      <td>Fox</td>\n",
       "      <td>72</td>\n",
       "      <td>6.267647</td>\n",
       "      <td>28</td>\n",
       "      <td>$219.37</td>\n",
       "      <td>2008</td>\n",
       "    </tr>\n",
       "    <tr>\n",
       "      <th>...</th>\n",
       "      <td>...</td>\n",
       "      <td>...</td>\n",
       "      <td>...</td>\n",
       "      <td>...</td>\n",
       "      <td>...</td>\n",
       "      <td>...</td>\n",
       "      <td>...</td>\n",
       "      <td>...</td>\n",
       "    </tr>\n",
       "    <tr>\n",
       "      <th>72</th>\n",
       "      <td>Across the Universe</td>\n",
       "      <td>romance</td>\n",
       "      <td>Independent</td>\n",
       "      <td>84</td>\n",
       "      <td>0.652603</td>\n",
       "      <td>54</td>\n",
       "      <td>$29.37</td>\n",
       "      <td>2007</td>\n",
       "    </tr>\n",
       "    <tr>\n",
       "      <th>73</th>\n",
       "      <td>A Serious Man</td>\n",
       "      <td>Drama</td>\n",
       "      <td>Universal</td>\n",
       "      <td>64</td>\n",
       "      <td>4.382857</td>\n",
       "      <td>89</td>\n",
       "      <td>$30.68</td>\n",
       "      <td>2009</td>\n",
       "    </tr>\n",
       "    <tr>\n",
       "      <th>74</th>\n",
       "      <td>A Dangerous Method</td>\n",
       "      <td>Drama</td>\n",
       "      <td>Independent</td>\n",
       "      <td>89</td>\n",
       "      <td>0.448645</td>\n",
       "      <td>79</td>\n",
       "      <td>$8.97</td>\n",
       "      <td>2011</td>\n",
       "    </tr>\n",
       "    <tr>\n",
       "      <th>75</th>\n",
       "      <td>27 Dresses</td>\n",
       "      <td>Comedy</td>\n",
       "      <td>Fox</td>\n",
       "      <td>71</td>\n",
       "      <td>5.343622</td>\n",
       "      <td>40</td>\n",
       "      <td>$160.31</td>\n",
       "      <td>2008</td>\n",
       "    </tr>\n",
       "    <tr>\n",
       "      <th>76</th>\n",
       "      <td>(500) Days of Summer</td>\n",
       "      <td>comedy</td>\n",
       "      <td>Fox</td>\n",
       "      <td>81</td>\n",
       "      <td>8.096000</td>\n",
       "      <td>87</td>\n",
       "      <td>$60.72</td>\n",
       "      <td>2009</td>\n",
       "    </tr>\n",
       "  </tbody>\n",
       "</table>\n",
       "<p>76 rows × 8 columns</p>\n",
       "</div>"
      ],
      "text/plain": [
       "                                  Film    Genre            Lead Studio  \\\n",
       "0           Zack and Miri Make a Porno  Romance  The Weinstein Company   \n",
       "1                      Youth in Revolt   Comedy  The Weinstein Company   \n",
       "2   You Will Meet a Tall Dark Stranger   Comedy            Independent   \n",
       "3                         When in Rome   Comedy                 Disney   \n",
       "4                What Happens in Vegas   Comedy                    Fox   \n",
       "..                                 ...      ...                    ...   \n",
       "72                 Across the Universe  romance            Independent   \n",
       "73                       A Serious Man    Drama              Universal   \n",
       "74                  A Dangerous Method    Drama            Independent   \n",
       "75                          27 Dresses   Comedy                    Fox   \n",
       "76                (500) Days of Summer   comedy                    Fox   \n",
       "\n",
       "    Audience score %  Profitability  Rotten Tomatoes % Worldwide Gross  Year  \n",
       "0                 70       1.747542                 64         $41.94   2008  \n",
       "1                 52       1.090000                 68         $19.62   2010  \n",
       "2                 35       1.211818                 43         $26.66   2010  \n",
       "3                 44       0.000000                 15         $43.04   2010  \n",
       "4                 72       6.267647                 28        $219.37   2008  \n",
       "..               ...            ...                ...             ...   ...  \n",
       "72                84       0.652603                 54         $29.37   2007  \n",
       "73                64       4.382857                 89         $30.68   2009  \n",
       "74                89       0.448645                 79          $8.97   2011  \n",
       "75                71       5.343622                 40        $160.31   2008  \n",
       "76                81       8.096000                 87         $60.72   2009  \n",
       "\n",
       "[76 rows x 8 columns]"
      ]
     },
     "execution_count": 3,
     "metadata": {},
     "output_type": "execute_result"
    }
   ],
   "source": [
    "data = pd.read_csv(\"https://gist.githubusercontent.com/tiangechen/b68782efa49a16edaf07dc2cdaa855ea/raw/0c794a9717f18b094eabab2cd6a6b9a226903577/movies.csv\")\n",
    "\n",
    "data.drop([45], axis=0, inplace=True)\n",
    "data"
   ]
  },
  {
   "cell_type": "markdown",
   "id": "dde7a84d-309b-448f-9938-5febb0be502b",
   "metadata": {},
   "source": [
    "We counted how many top-grossing films each studio made between 2007 and 2011 and visualized it as a bar chart."
   ]
  },
  {
   "cell_type": "code",
   "execution_count": 4,
   "id": "14652c33-3760-4a28-a814-5229829fd771",
   "metadata": {},
   "outputs": [
    {
     "data": {
      "image/png": "[encoded data removed]",
      "text/plain": [
       "<Figure size 576x576 with 1 Axes>"
      ]
     },
     "metadata": {
      "needs_background": "light"
     },
     "output_type": "display_data"
    }
   ],
   "source": [
    "mov = Counter(data['Lead Studio'])\n",
    "lbl = list(mov.keys())\n",
    "val = mov.values()\n",
    "df = pd.DataFrame(val)\n",
    "df2 = pd.DataFrame(lbl)\n",
    "df = df.rename(columns={0:'val'})\n",
    "df2 = df2.rename(columns={0:'lbl'})\n",
    "dff = pd.concat((df,df2), axis = 1)\n",
    "bar = dff.plot.barh(x='lbl',y='val', rot=0,figsize = (8,8) )"
   ]
  },
  {
   "cell_type": "markdown",
   "id": "ef470c52-e978-4f3d-b854-639c9519ccb8",
   "metadata": {},
   "source": [
    "We turned this into a pie chart."
   ]
  },
  {
   "cell_type": "code",
   "execution_count": 5,
   "id": "da550012-27fa-4682-8ab1-980ea5bbb7ee",
   "metadata": {},
   "outputs": [
    {
     "data": {
      "text/plain": [
       "([<matplotlib.patches.Wedge at 0x1fea4116280>,\n",
       "  <matplotlib.patches.Wedge at 0x1fea4116850>,\n",
       "  <matplotlib.patches.Wedge at 0x1fea4116d30>,\n",
       "  <matplotlib.patches.Wedge at 0x1fea4116fd0>,\n",
       "  <matplotlib.patches.Wedge at 0x1fea4121550>,\n",
       "  <matplotlib.patches.Wedge at 0x1fea4121a60>,\n",
       "  <matplotlib.patches.Wedge at 0x1fea4121f40>,\n",
       "  <matplotlib.patches.Wedge at 0x1fea412d460>,\n",
       "  <matplotlib.patches.Wedge at 0x1fea412d940>,\n",
       "  <matplotlib.patches.Wedge at 0x1fea412de20>,\n",
       "  <matplotlib.patches.Wedge at 0x1fea40e2fa0>,\n",
       "  <matplotlib.patches.Wedge at 0x1fea413c820>,\n",
       "  <matplotlib.patches.Wedge at 0x1fea413cd00>],\n",
       " [Text(1.091552638381225, 0.13606188901741217, 'The Weinstein Company'),\n",
       "  Text(0.5630735633115591, 0.9449593442575315, 'Independent'),\n",
       "  Text(-0.6016429671278826, 0.9208831305358774, 'Disney'),\n",
       "  Text(-1.007350652788397, 0.4418649820101049, 'Fox'),\n",
       "  Text(-1.096242940125184, 0.09083730635423141, '20th Century Fox'),\n",
       "  Text(-0.920883144618347, -0.6016429455730573, 'Warner Bros.'),\n",
       "  Text(-0.22573690957226764, -1.076588522907783, 'Summit'),\n",
       "  Text(0.18105402524925104, -1.0849974377578242, 'Paramount'),\n",
       "  Text(0.39985874647465175, -1.0247502051074302, 'CBS'),\n",
       "  Text(0.4831162279488487, -0.9882300897526224, 'New Line'),\n",
       "  Text(0.6756339679178845, -0.8680545728210497, 'Sony'),\n",
       "  Text(0.9882300699633565, -0.48311626842843913, 'Universal'),\n",
       "  Text(1.0962429401251839, -0.09083730635423204, 'Lionsgate')])"
      ]
     },
     "execution_count": 5,
     "metadata": {},
     "output_type": "execute_result"
    },
    {
     "data": {
      "image/png": "[encoded data removed]",
      "text/plain": [
       "<Figure size 432x288 with 1 Axes>"
      ]
     },
     "metadata": {},
     "output_type": "display_data"
    }
   ],
   "source": [
    "x = dff['lbl']\n",
    "y = dff['val']\n",
    "#y = np.array(y)\n",
    "plt.pie(y, labels = x)"
   ]
  },
  {
   "cell_type": "markdown",
   "id": "aafe29d2-73fe-4c0c-b5c6-1b6c8f61b4d4",
   "metadata": {},
   "source": [
    "We corrected the 'Genre' column, created a crosstabulate, and finally created a heatmap."
   ]
  },
  {
   "cell_type": "code",
   "execution_count": 6,
   "id": "c6880683-ceac-48fa-930a-b80c2b27eef0",
   "metadata": {},
   "outputs": [
    {
     "data": {
      "text/plain": [
       "<AxesSubplot:xlabel='Genre', ylabel='Year'>"
      ]
     },
     "execution_count": 6,
     "metadata": {},
     "output_type": "execute_result"
    },
    {
     "data": {
      "image/png": "[encoded data removed]",
      "text/plain": [
       "<Figure size 864x576 with 2 Axes>"
      ]
     },
     "metadata": {
      "needs_background": "light"
     },
     "output_type": "display_data"
    }
   ],
   "source": [
    "data['Genre'] = data['Genre'].str.replace('Comdy','Comedy')\n",
    "data['Genre'] = data['Genre'].str.replace('Romence','Romance')\n",
    "data['Genre'] = data['Genre'].str.replace('comedy','Comedy')\n",
    "data['Genre'] = data['Genre'].str.replace('romance','Romance')\n",
    "cross = pd.crosstab(data['Year'], data['Genre'])\n",
    "plt.rcParams['figure.figsize'] = 12,8\n",
    "sns.heatmap(cross, cmap='Greens')"
   ]
  },
  {
   "cell_type": "markdown",
   "id": "418ab194-e5f1-45ba-921f-95d45f4a68a9",
   "metadata": {
    "tags": []
   },
   "source": [
    "## Question #2\n",
    "\n",
    "For this question, we are going to use the [Open Flight Data](https://openflights.org/data.html#route).\n",
    "\n",
    "1. Find the link for the data from the link I gave above. Ingest it as a pandas data frame.\n",
    "\n",
    "2. Inspect it and explain what it contains.\n",
    "\n",
    "3. Construct a data frame that contains 3 columns: source airport, target airport and the number of flights from source to target.\n",
    "\n",
    "4. Filter the data frame and select only the routes that has 10 or more flights between them.\n",
    "\n",
    "5. Construct a network using the `networkx` library that I used in our last lecture using the data frame you constructed in the previous step.\n",
    "\n",
    "6. Visualize the network."
   ]
  },
  {
   "cell_type": "markdown",
   "id": "010527b3-3e8e-4229-a178-bc9a5720e23c",
   "metadata": {},
   "source": [
    "We downloaded data from internet."
   ]
  },
  {
   "cell_type": "code",
   "execution_count": 7,
   "id": "e730afdc-dbfc-4518-b1c6-24560da5fa2f",
   "metadata": {},
   "outputs": [
    {
     "data": {
      "text/html": [
       "<div>\n",
       "<style scoped>\n",
       "    .dataframe tbody tr th:only-of-type {\n",
       "        vertical-align: middle;\n",
       "    }\n",
       "\n",
       "    .dataframe tbody tr th {\n",
       "        vertical-align: top;\n",
       "    }\n",
       "\n",
       "    .dataframe thead th {\n",
       "        text-align: right;\n",
       "    }\n",
       "</style>\n",
       "<table border=\"1\" class=\"dataframe\">\n",
       "  <thead>\n",
       "    <tr style=\"text-align: right;\">\n",
       "      <th></th>\n",
       "      <th>Airline</th>\n",
       "      <th>Airline ID</th>\n",
       "      <th>Source airport</th>\n",
       "      <th>Source airport ID</th>\n",
       "      <th>Destination airport</th>\n",
       "      <th>Coverage</th>\n",
       "      <th>Codeshare</th>\n",
       "      <th>Stops</th>\n",
       "      <th>Equipment</th>\n",
       "    </tr>\n",
       "  </thead>\n",
       "  <tbody>\n",
       "    <tr>\n",
       "      <th>0</th>\n",
       "      <td>2B</td>\n",
       "      <td>410</td>\n",
       "      <td>AER</td>\n",
       "      <td>2965</td>\n",
       "      <td>KZN</td>\n",
       "      <td>2990</td>\n",
       "      <td>NaN</td>\n",
       "      <td>0</td>\n",
       "      <td>CR2</td>\n",
       "    </tr>\n",
       "    <tr>\n",
       "      <th>1</th>\n",
       "      <td>2B</td>\n",
       "      <td>410</td>\n",
       "      <td>ASF</td>\n",
       "      <td>2966</td>\n",
       "      <td>KZN</td>\n",
       "      <td>2990</td>\n",
       "      <td>NaN</td>\n",
       "      <td>0</td>\n",
       "      <td>CR2</td>\n",
       "    </tr>\n",
       "    <tr>\n",
       "      <th>2</th>\n",
       "      <td>2B</td>\n",
       "      <td>410</td>\n",
       "      <td>ASF</td>\n",
       "      <td>2966</td>\n",
       "      <td>MRV</td>\n",
       "      <td>2962</td>\n",
       "      <td>NaN</td>\n",
       "      <td>0</td>\n",
       "      <td>CR2</td>\n",
       "    </tr>\n",
       "    <tr>\n",
       "      <th>3</th>\n",
       "      <td>2B</td>\n",
       "      <td>410</td>\n",
       "      <td>CEK</td>\n",
       "      <td>2968</td>\n",
       "      <td>KZN</td>\n",
       "      <td>2990</td>\n",
       "      <td>NaN</td>\n",
       "      <td>0</td>\n",
       "      <td>CR2</td>\n",
       "    </tr>\n",
       "    <tr>\n",
       "      <th>4</th>\n",
       "      <td>2B</td>\n",
       "      <td>410</td>\n",
       "      <td>CEK</td>\n",
       "      <td>2968</td>\n",
       "      <td>OVB</td>\n",
       "      <td>4078</td>\n",
       "      <td>NaN</td>\n",
       "      <td>0</td>\n",
       "      <td>CR2</td>\n",
       "    </tr>\n",
       "    <tr>\n",
       "      <th>...</th>\n",
       "      <td>...</td>\n",
       "      <td>...</td>\n",
       "      <td>...</td>\n",
       "      <td>...</td>\n",
       "      <td>...</td>\n",
       "      <td>...</td>\n",
       "      <td>...</td>\n",
       "      <td>...</td>\n",
       "      <td>...</td>\n",
       "    </tr>\n",
       "    <tr>\n",
       "      <th>67658</th>\n",
       "      <td>ZL</td>\n",
       "      <td>4178</td>\n",
       "      <td>WYA</td>\n",
       "      <td>6334</td>\n",
       "      <td>ADL</td>\n",
       "      <td>3341</td>\n",
       "      <td>NaN</td>\n",
       "      <td>0</td>\n",
       "      <td>SF3</td>\n",
       "    </tr>\n",
       "    <tr>\n",
       "      <th>67659</th>\n",
       "      <td>ZM</td>\n",
       "      <td>19016</td>\n",
       "      <td>DME</td>\n",
       "      <td>4029</td>\n",
       "      <td>FRU</td>\n",
       "      <td>2912</td>\n",
       "      <td>NaN</td>\n",
       "      <td>0</td>\n",
       "      <td>734</td>\n",
       "    </tr>\n",
       "    <tr>\n",
       "      <th>67660</th>\n",
       "      <td>ZM</td>\n",
       "      <td>19016</td>\n",
       "      <td>FRU</td>\n",
       "      <td>2912</td>\n",
       "      <td>DME</td>\n",
       "      <td>4029</td>\n",
       "      <td>NaN</td>\n",
       "      <td>0</td>\n",
       "      <td>734</td>\n",
       "    </tr>\n",
       "    <tr>\n",
       "      <th>67661</th>\n",
       "      <td>ZM</td>\n",
       "      <td>19016</td>\n",
       "      <td>FRU</td>\n",
       "      <td>2912</td>\n",
       "      <td>OSS</td>\n",
       "      <td>2913</td>\n",
       "      <td>NaN</td>\n",
       "      <td>0</td>\n",
       "      <td>734</td>\n",
       "    </tr>\n",
       "    <tr>\n",
       "      <th>67662</th>\n",
       "      <td>ZM</td>\n",
       "      <td>19016</td>\n",
       "      <td>OSS</td>\n",
       "      <td>2913</td>\n",
       "      <td>FRU</td>\n",
       "      <td>2912</td>\n",
       "      <td>NaN</td>\n",
       "      <td>0</td>\n",
       "      <td>734</td>\n",
       "    </tr>\n",
       "  </tbody>\n",
       "</table>\n",
       "<p>67663 rows × 9 columns</p>\n",
       "</div>"
      ],
      "text/plain": [
       "      Airline Airline ID Source airport Source airport ID Destination airport  \\\n",
       "0          2B        410            AER              2965                 KZN   \n",
       "1          2B        410            ASF              2966                 KZN   \n",
       "2          2B        410            ASF              2966                 MRV   \n",
       "3          2B        410            CEK              2968                 KZN   \n",
       "4          2B        410            CEK              2968                 OVB   \n",
       "...       ...        ...            ...               ...                 ...   \n",
       "67658      ZL       4178            WYA              6334                 ADL   \n",
       "67659      ZM      19016            DME              4029                 FRU   \n",
       "67660      ZM      19016            FRU              2912                 DME   \n",
       "67661      ZM      19016            FRU              2912                 OSS   \n",
       "67662      ZM      19016            OSS              2913                 FRU   \n",
       "\n",
       "      Coverage Codeshare  Stops Equipment  \n",
       "0         2990       NaN      0       CR2  \n",
       "1         2990       NaN      0       CR2  \n",
       "2         2962       NaN      0       CR2  \n",
       "3         2990       NaN      0       CR2  \n",
       "4         4078       NaN      0       CR2  \n",
       "...        ...       ...    ...       ...  \n",
       "67658     3341       NaN      0       SF3  \n",
       "67659     2912       NaN      0       734  \n",
       "67660     4029       NaN      0       734  \n",
       "67661     2913       NaN      0       734  \n",
       "67662     2912       NaN      0       734  \n",
       "\n",
       "[67663 rows x 9 columns]"
      ]
     },
     "execution_count": 7,
     "metadata": {},
     "output_type": "execute_result"
    }
   ],
   "source": [
    "data = pd.read_csv('https://raw.githubusercontent.com/jpatokal/openflights/master/data/routes.dat',\n",
    "                  names=[\"Airline\",\"Airline ID\" ,\"Source airport\",\"Source airport ID\", \"Destination airport\", \"Coverage\",\"Codeshare\",\"Stops\",\"Equipment\"])\n",
    "data"
   ]
  },
  {
   "cell_type": "markdown",
   "id": "8abf7e8c-4557-4f9f-b759-660f1d7b206f",
   "metadata": {},
   "source": [
    "We constructed a data frame that contains 3 columns: source airport, target airport and the number of flights from source to target and We filtered out airports with more than 10 flights between them."
   ]
  },
  {
   "cell_type": "code",
   "execution_count": 16,
   "id": "0fbdd768-98ef-4dd0-a2d9-a1c5e7d45105",
   "metadata": {},
   "outputs": [
    {
     "name": "stdout",
     "output_type": "stream",
     "text": [
      "Source airport  Destination airport\n",
      "AAE             ALG                    1\n",
      "                CDG                    1\n",
      "                IST                    1\n",
      "                LYS                    1\n",
      "                MRS                    2\n",
      "                                      ..\n",
      "ZYI             SZX                    1\n",
      "                WUH                    1\n",
      "                XIY                    1\n",
      "                XMN                    1\n",
      "ZYL             DAC                    4\n",
      "Length: 37595, dtype: int64\n",
      "Source airport  Destination airport\n",
      "ATL             DEN                    11.0\n",
      "                DFW                    11.0\n",
      "                MIA                    12.0\n",
      "                ORD                    19.0\n",
      "AUH             MCT                    12.0\n",
      "BKK             HKG                    12.0\n",
      "CAN             HGH                    12.0\n",
      "CDG             JFK                    11.0\n",
      "CNX             BKK                    11.0\n",
      "DEN             ATL                    11.0\n",
      "DOH             BAH                    12.0\n",
      "HKG             BKK                    12.0\n",
      "HKT             BKK                    13.0\n",
      "HRE             LUN                    11.0\n",
      "JFK             CDG                    11.0\n",
      "                LHR                    12.0\n",
      "                MSY                    11.0\n",
      "KGL             EBB                    11.0\n",
      "LAX             LHR                    11.0\n",
      "LHR             JFK                    12.0\n",
      "                LAX                    11.0\n",
      "MCT             AUH                    11.0\n",
      "MIA             ATL                    12.0\n",
      "MSY             JFK                    11.0\n",
      "ORD             ATL                    20.0\n",
      "                MSY                    13.0\n",
      "SFO             ATL                    11.0\n",
      "SYD             AKL                    11.0\n",
      "dtype: float64\n"
     ]
    }
   ],
   "source": [
    "numberflights = data.iloc[:, [2,4]]\n",
    "numberflights = numberflights.pivot_table(columns=['Source airport','Destination airport'], aggfunc='size')\n",
    "print(numberflights)\n",
    "filters= numberflights.where(numberflights>10).dropna()\n",
    "print(filters)"
   ]
  },
  {
   "cell_type": "markdown",
   "id": "b577dbb7-50b8-4ddf-a69e-002b8ddbab3b",
   "metadata": {},
   "source": [
    "We builded and visualized the network."
   ]
  },
  {
   "cell_type": "code",
   "execution_count": 13,
   "id": "66755d39-1419-49c9-b353-4dcfab845643",
   "metadata": {},
   "outputs": [
    {
     "data": {
      "image/png": "[encoded data removed]",
      "text/plain": [
       "<Figure size 720x720 with 1 Axes>"
      ]
     },
     "metadata": {},
     "output_type": "display_data"
    }
   ],
   "source": [
    "f2 = filters.reset_index()\n",
    "del f2[0]\n",
    "f2.columns = ['source','target']\n",
    "\n",
    "plt.rcParams['figure.figsize'] = 10,10\n",
    "\n",
    "graph = nx.from_pandas_edgelist(pd.DataFrame(f2))\n",
    "nx.draw_kamada_kawai(graph,with_labels=True)"
   ]
  },
  {
   "cell_type": "markdown",
   "id": "5b683420-62eb-47f3-8c17-9227d4528647",
   "metadata": {},
   "source": [
    "## Question #3\n",
    "\n",
    "For this question we are going to use the [NBA Data](https://sports-statistics.com/sports-data/nba-basketball-datasets-csv-files/) that I have shown you in our last lecture.\n",
    "\n",
    "1. Ingest the 2019 data as a pandas data frame.\n",
    "\n",
    "2. Inspect it and explain what it contains.\n",
    "\n",
    "3. Write a function that takes two arguments: the NBA data frame and a 'game type' argument which can be 'regular' or 'playoff'. The function must return another pandas data frame of list of players, the number of asists, blocks and rebounds for each player. Evaluate your function on both regular games, and then on playoff games.\n",
    "\n",
    "4. Write another function that takes two argumentas as before: the NBA data frame and the game type. The function must return the list of teams and the number of wins during the regular season or the play offs as a data frame. Visualize the returned data frame as a bar chart for both regular games, and then on playoff games."
   ]
  },
  {
   "cell_type": "markdown",
   "id": "0796bee8-7eaf-4cef-9492-3ad3fb66fb1c",
   "metadata": {},
   "source": [
    "We downloaded data from internet."
   ]
  },
  {
   "cell_type": "code",
   "execution_count": null,
   "id": "2283b3bd-39e5-4f4d-b85f-a48169b7054e",
   "metadata": {},
   "outputs": [],
   "source": [
    "df = pd.read_csv('https://sports-statistics.com/database/basketball-data/nba/2019-20_pbp.csv')\n",
    "data = df\n",
    "data"
   ]
  },
  {
   "cell_type": "markdown",
   "id": "5bd677c9-52e4-48f4-af94-0d382ac94adc",
   "metadata": {},
   "source": [
    "We builded function for playerstats."
   ]
  },
  {
   "cell_type": "code",
   "execution_count": 64,
   "id": "a5475425-ac17-44b3-b422-272d2e83448b",
   "metadata": {},
   "outputs": [],
   "source": [
    "def playerstats(data,gametype):\n",
    "    if gametype == 'regular':\n",
    "        regular = data.where(data['GameType'] == \"regular\")\n",
    "        rebounder = regular.groupby(['Rebounder']).size()\n",
    "        rebounder = rebounder.to_frame()\n",
    "        rebounder = rebounder.rename(columns={0:'rebounds'})\n",
    "        blocker = regular.groupby(['Blocker']).size()\n",
    "        blocker = blocker.to_frame()\n",
    "        blocker = blocker.rename(columns={0:'blocks'})\n",
    "        assister = regular.groupby(['Assister']).size()\n",
    "        assister = assister.to_frame()\n",
    "        assister = assister.rename(columns={0:'assists'})\n",
    "        dff = pd.concat((blocker,assister,rebounder), axis = 1)\n",
    "        print(dff)\n",
    "    elif gametype == 'playoff':\n",
    "        playoff = data.where(data['GameType'] == \"playoff\")\n",
    "        rebounder = playoff.groupby(['Rebounder']).size()\n",
    "        rebounder = rebounder.to_frame()\n",
    "        rebounder = rebounder.rename(columns={0:'rebounds'})\n",
    "        blocker = playoff.groupby(['Blocker']).size()\n",
    "        blocker = blocker.to_frame()\n",
    "        blocker = blocker.rename(columns={0:'blocks'})\n",
    "        assister = playoff.groupby(['Assister']).size()\n",
    "        assister = assister.to_frame()\n",
    "        assister = assister.rename(columns={0:'assists'})\n",
    "        dff = pd.concat((blocker,assister,rebounder), axis = 1)\n",
    "        print(dff)\n",
    "    else:\n",
    "        print(\"Your gametype is false\")"
   ]
  },
  {
   "cell_type": "code",
   "execution_count": 74,
   "id": "e2334a6d-2a03-4d3d-a97f-94b275ed221f",
   "metadata": {},
   "outputs": [
    {
     "name": "stdout",
     "output_type": "stream",
     "text": [
      "                        blocks  assists  rebounds\n",
      "A. Aminu - aminual01       8.0     21.0      87.0\n",
      "A. Baynes - baynear01     23.0     67.0     237.0\n",
      "A. Bradley - bradlav01     5.0     63.0     115.0\n",
      "A. Burks - burksal01      17.0    189.0     282.0\n",
      "A. Caruso - carusal01     18.0    124.0     123.0\n",
      "...                        ...      ...       ...\n",
      "M. Bolden - boldema01      NaN      NaN       2.0\n",
      "M. Strus - strusma01       NaN      NaN       1.0\n",
      "T. Owens - owensta01       NaN      NaN       3.0\n",
      "T. Zeller - zellety01      NaN      NaN       4.0\n",
      "Team                       NaN      NaN   17741.0\n",
      "\n",
      "[529 rows x 3 columns]\n"
     ]
    }
   ],
   "source": [
    "playerstats(data,'regular')"
   ]
  },
  {
   "cell_type": "code",
   "execution_count": 75,
   "id": "788e68dd-309b-4a6e-9e51-2d5c3ef9ad55",
   "metadata": {},
   "outputs": [
    {
     "name": "stdout",
     "output_type": "stream",
     "text": [
      "                              blocks  assists  rebounds\n",
      "A. Burks - burksal01             3.0      7.0      15.0\n",
      "A. Caruso - carusal01           12.0     59.0      48.0\n",
      "A. Davis - davisan02            30.0     73.0     204.0\n",
      "A. Horford - horfoal01           5.0      9.0      29.0\n",
      "A. Iguodala - iguodan01         13.0     31.0      54.0\n",
      "...                              ...      ...       ...\n",
      "S. Brown - brownst02             NaN      NaN       1.0\n",
      "T. Cook - cookty01               NaN      NaN       2.0\n",
      "T. Fall - fallta01               NaN      NaN       1.0\n",
      "T. Horton-Tucker - hortota01     NaN      NaN       5.0\n",
      "Team                             NaN      NaN    1337.0\n",
      "\n",
      "[208 rows x 3 columns]\n"
     ]
    }
   ],
   "source": [
    "playerstats(data,'playoff')"
   ]
  },
  {
   "cell_type": "markdown",
   "id": "417a9671-ea89-48da-8712-78d04ba50ccf",
   "metadata": {},
   "source": [
    "We builded function for teams."
   ]
  },
  {
   "cell_type": "code",
   "execution_count": 80,
   "id": "fe20129c-e994-4b6e-814d-5107d79b0a1a",
   "metadata": {},
   "outputs": [],
   "source": [
    "def teamwin(data,gametype):\n",
    "    if gametype == 'regular':\n",
    "        regular = data.where(data['GameType'] == \"regular\")\n",
    "        r = Counter(regular['WinningTeam'])\n",
    "        dfr = pd.DataFrame.from_dict(r, orient='index').reset_index()\n",
    "        dfr = dfr.rename(columns={'index':'Team', 0:'Number Of Wins'})\n",
    "        dfr = dfr.drop(labels=30, axis=0)\n",
    "        print(dfr)\n",
    "        bar = dfr.plot.bar(x='Team',y='Number Of Wins', rot=0, figsize = (14,10))\n",
    "        print(bar)\n",
    "    elif gametype == 'playoff':\n",
    "        playoff = data.where(data['GameType'] == \"playoff\")\n",
    "        p = Counter(playoff['WinningTeam'])\n",
    "        dfp = pd.DataFrame.from_dict(p, orient='index').reset_index()\n",
    "        dfp = dfp.rename(columns={'index':'Team', 0:'Number Of Wins'})\n",
    "        dfp = dfp.drop(labels=0, axis=0)\n",
    "        print(dfp)\n",
    "        bar = dfp.plot.bar(x='Team',y='Number Of Wins', rot=0, figsize = (14,10))\n",
    "        print(bar)\n",
    "    else:\n",
    "        print(\"Your gametype is false\")"
   ]
  },
  {
   "cell_type": "code",
   "execution_count": 81,
   "id": "ac6c23b2-2f33-40df-9c16-f7fe05faab9a",
   "metadata": {},
   "outputs": [
    {
     "name": "stdout",
     "output_type": "stream",
     "text": [
      "   Team  Number Of Wins\n",
      "0   TOR           24986\n",
      "1   LAC           23744\n",
      "2   CHO           10527\n",
      "3   DET            9047\n",
      "4   ORL           15176\n",
      "5   MIN            9513\n",
      "6   MIA           20460\n",
      "7   PHI           20118\n",
      "8   DAL           20127\n",
      "9   SAS           15121\n",
      "10  UTA           20161\n",
      "11  PHO           16132\n",
      "12  DEN           21500\n",
      "13  ATL            9921\n",
      "14  MIL           27524\n",
      "15  BOS           22510\n",
      "16  BRK           16842\n",
      "17  CHI           10360\n",
      "18  WAS           11865\n",
      "19  POR           17153\n",
      "20  LAL           24691\n",
      "21  CLE            9036\n",
      "22  HOU           21347\n",
      "23  OKC           20454\n",
      "24  MEM           16311\n",
      "25  NYK            9958\n",
      "26  GSW            7041\n",
      "27  IND           20549\n",
      "28  NOP           14372\n",
      "29  SAC           14263\n",
      "AxesSubplot(0.125,0.125;0.775x0.755)\n"
     ]
    },
    {
     "data": {
      "image/png": "[encoded data removed]",
      "text/plain": [
       "<Figure size 1008x720 with 1 Axes>"
      ]
     },
     "metadata": {
      "needs_background": "light"
     },
     "output_type": "display_data"
    }
   ],
   "source": [
    "teamwin(data,'regular')"
   ]
  },
  {
   "cell_type": "code",
   "execution_count": 82,
   "id": "728c9e87-3010-435d-9b62-2c06bf76b09c",
   "metadata": {},
   "outputs": [
    {
     "name": "stdout",
     "output_type": "stream",
     "text": [
      "   Team  Number Of Wins\n",
      "1   DEN            3981\n",
      "2   TOR            3282\n",
      "3   BOS            4674\n",
      "4   LAC            3216\n",
      "5   ORL             494\n",
      "6   MIA            6495\n",
      "7   HOU            2298\n",
      "8   POR             519\n",
      "9   UTA            1306\n",
      "10  DAL            1059\n",
      "11  MIL            2426\n",
      "12  LAL            7261\n",
      "13  OKC            1445\n",
      "AxesSubplot(0.125,0.125;0.775x0.755)\n"
     ]
    },
    {
     "data": {
      "image/png": "[encoded data removed]",
      "text/plain": [
       "<Figure size 1008x720 with 1 Axes>"
      ]
     },
     "metadata": {
      "needs_background": "light"
     },
     "output_type": "display_data"
    }
   ],
   "source": [
    "teamwin(data,'playoff')"
   ]
  }
 ],
 "metadata": {
  "kernelspec": {
   "display_name": "Python 3 (ipykernel)",
   "language": "python",
   "name": "python3"
  },
  "language_info": {
   "codemirror_mode": {
    "name": "ipython",
    "version": 3
   },
   "file_extension": ".py",
   "mimetype": "text/x-python",
   "name": "python",
   "nbconvert_exporter": "python",
   "pygments_lexer": "ipython3",
   "version": "3.9.7"
  }
 },
 "nbformat": 4,
 "nbformat_minor": 5
}
