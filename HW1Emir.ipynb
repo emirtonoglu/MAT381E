{
 "cells": [
  {
   "cell_type": "markdown",
   "id": "e6af82b1-88e0-40b7-a4ca-eac8c9d5b13a",
   "metadata": {
    "tags": []
   },
   "source": [
    "# Some ground rules for the assignments:\n",
    "\n",
    "For all assignments (this one and any future assignment including the final project): \n",
    "\n",
    "* Do not download and save the data locally unless your data is very big (~TBs). I **do not** want to see you opening a local file for the data I gave you as an URL. Anything local is suspect: local files can't be trusted (they might be manipulated, changed, modified, tempered.) Refer to my lecture notes on how to pull data from an URL using `urlopen`.\n",
    "\n",
    "* All computations must be done locally within python. Nothing external: no manual input, no excel, no SQL, no java, etc.\n",
    "\n",
    "* All code has to be explained. Explain your reasoning and your choices. If you installed a third party library (including `numpy`, `scipy`, `pandas` etc), explain which part you import and what that function does etc. \n",
    "\n",
    "* Explain your code using a markdown cell. **Do not** use code comments starting with `#` to do your explanations.\n",
    "\n",
    "* Do not use `if __name__ == \"__main__\"`. EVER! If you are using that within jupyter, I am going to assume you found the solution on the internet and you cut/pasted without understanding what that peice of code did."
   ]
  },
  {
   "cell_type": "markdown",
   "id": "a63b00f9-425c-4dbd-a2d8-ec47cc85e292",
   "metadata": {},
   "source": [
    "Importing the libraries"
   ]
  },
  {
   "cell_type": "code",
   "execution_count": 13,
   "id": "ba6af996-2d5e-4c69-9b98-ab7d173c17e5",
   "metadata": {},
   "outputs": [],
   "source": [
    "from urllib.request import urlopen\n",
    "from xmltodict import parse\n",
    "import pandas as pd\n",
    "from pandas import DataFrame"
   ]
  },
  {
   "cell_type": "markdown",
   "id": "57b3c001-9c05-4263-9d20-a9d9b2526218",
   "metadata": {},
   "source": [
    "# Question 1\n",
    "\n",
    "Istanbul municipality has a open data service, and it provides detailed information about their services. For this question, use the data given at [this link](https://data.ibb.gov.tr/dataset/istanbul-sehir-hatlari-iskeleleri).\n",
    "\n",
    "1. Understand what the data is for. Explain what it is, what it records, what pieces it has in broad strokes. \n",
    "\n",
    "2. Data (among other things) contains geographical locations of Sea Stations ('Iskele') of Istanbul Deniz Isletmeleri boats operating in Istanbul.  Extract the locations of these stations as a pandas dataframe with 2 columns: latitudes and longitudes. The index of the dataframe has to be the station names.\n",
    "\n",
    "The data is in XML format. Do not use any external libraries other than numpy and pandas. Use `xmltodict` to convert it into a dictionary then extract the necessary parts."
   ]
  },
  {
   "cell_type": "code",
   "execution_count": 2,
   "id": "cd833265-392b-472a-8f0d-5a59fc47d787",
   "metadata": {},
   "outputs": [],
   "source": [
    "with urlopen(\"https://data.ibb.gov.tr/dataset/b47b5391-bcca-4bb3-a575-8ece68901d5d/resource/bcbeff5d-14d7-4ec0-a211-4c4d3e96cfba/download/istanbul-ehir-hatlar-iskeleleri.kml\") as url:\n",
    "    raw = parse(url,encoding='utf-8')"
   ]
  },
  {
   "cell_type": "markdown",
   "id": "3f0d5bc1-46f6-4ef6-ad9b-b5c1bc3e4009",
   "metadata": {},
   "source": [
    "Reading the data"
   ]
  },
  {
   "cell_type": "code",
   "execution_count": 3,
   "id": "dd9b160d-1db4-429d-8920-dc2212cddd56",
   "metadata": {},
   "outputs": [],
   "source": [
    "df = raw['kml']['Document']['Folder']['Folder']\n",
    "names = []\n",
    "latitudes= []\n",
    "longitudes= []"
   ]
  },
  {
   "cell_type": "markdown",
   "id": "4e545c2e-5a75-4217-b7e0-bd4a3d333e0f",
   "metadata": {},
   "source": [
    "Searching for longitudes and latitudes"
   ]
  },
  {
   "cell_type": "code",
   "execution_count": 4,
   "id": "febd6fc8-4dae-44fc-894e-d16fbde606b0",
   "metadata": {},
   "outputs": [],
   "source": [
    "for j in range(len(df) - 1):\n",
    "    xx = df[j]['Placemark']\n",
    "    for i in range(len(xx)-1):\n",
    "        names.insert(len(names),xx[i]['name'])\n",
    "        column = ('LookAt' in xx[i])\n",
    "        if(column): \n",
    "            column=\"LookAt\"\n",
    "        else:\n",
    "            column= \"Camera\"\n",
    "        latitudes.insert(len(latitudes),xx[i][column]['latitude'])\n",
    "        longitudes.insert(len(longitudes),xx[i][column]['longitude'])"
   ]
  },
  {
   "cell_type": "markdown",
   "id": "b783a147-a556-4c62-9703-f1368370dd64",
   "metadata": {},
   "source": [
    "We draw the names first.\n",
    "Then we extract the longitude and latitude data from the \"Camera\" or \"Look at\" files and make them a list."
   ]
  },
  {
   "cell_type": "markdown",
   "id": "8e818336-a6f5-4167-bf92-22d0f90d9e17",
   "metadata": {},
   "source": [
    "We print all of these lists into a pandas dataframe."
   ]
  },
  {
   "cell_type": "code",
   "execution_count": 5,
   "id": "c50d3a3d-dbf8-4609-98f9-5d3e2c30bed2",
   "metadata": {},
   "outputs": [
    {
     "data": {
      "text/html": [
       "<div>\n",
       "<style scoped>\n",
       "    .dataframe tbody tr th:only-of-type {\n",
       "        vertical-align: middle;\n",
       "    }\n",
       "\n",
       "    .dataframe tbody tr th {\n",
       "        vertical-align: top;\n",
       "    }\n",
       "\n",
       "    .dataframe thead th {\n",
       "        text-align: right;\n",
       "    }\n",
       "</style>\n",
       "<table border=\"1\" class=\"dataframe\">\n",
       "  <thead>\n",
       "    <tr style=\"text-align: right;\">\n",
       "      <th></th>\n",
       "      <th>Latitudes</th>\n",
       "      <th>Longitudes</th>\n",
       "    </tr>\n",
       "    <tr>\n",
       "      <th>Names</th>\n",
       "      <th></th>\n",
       "      <th></th>\n",
       "    </tr>\n",
       "  </thead>\n",
       "  <tbody>\n",
       "    <tr>\n",
       "      <th>MALTEPE</th>\n",
       "      <td>40.91681013544846</td>\n",
       "      <td>29.13060758098593</td>\n",
       "    </tr>\n",
       "    <tr>\n",
       "      <th>AHIRKAPI</th>\n",
       "      <td>41.00314456999032</td>\n",
       "      <td>28.98289668101853</td>\n",
       "    </tr>\n",
       "    <tr>\n",
       "      <th>BEŞİKTAŞ-1</th>\n",
       "      <td>41.04116198628195</td>\n",
       "      <td>29.00778819900819</td>\n",
       "    </tr>\n",
       "    <tr>\n",
       "      <th>BEŞİKTAŞ-2</th>\n",
       "      <td>41.04065414312002</td>\n",
       "      <td>29.0055048939288</td>\n",
       "    </tr>\n",
       "    <tr>\n",
       "      <th>BOSTANCI</th>\n",
       "      <td>40.95173395654253</td>\n",
       "      <td>29.09425745312653</td>\n",
       "    </tr>\n",
       "    <tr>\n",
       "      <th>EMİNÖNÜ-1</th>\n",
       "      <td>41.01495987953694</td>\n",
       "      <td>28.97621869809887</td>\n",
       "    </tr>\n",
       "    <tr>\n",
       "      <th>EMİNÖNÜ-2</th>\n",
       "      <td>41.01495987953694</td>\n",
       "      <td>28.97621869809887</td>\n",
       "    </tr>\n",
       "    <tr>\n",
       "      <th>EMİNÖNÜ-3</th>\n",
       "      <td>41.01488637107048</td>\n",
       "      <td>28.97495985342729</td>\n",
       "    </tr>\n",
       "    <tr>\n",
       "      <th>EMİNÖNÜ-4</th>\n",
       "      <td>41.01488637107048</td>\n",
       "      <td>28.97495985342729</td>\n",
       "    </tr>\n",
       "    <tr>\n",
       "      <th>HAYDARPAŞA</th>\n",
       "      <td>40.99577360085738</td>\n",
       "      <td>29.01810215560077</td>\n",
       "    </tr>\n",
       "    <tr>\n",
       "      <th>KABATAŞ</th>\n",
       "      <td>41.03138737936629</td>\n",
       "      <td>28.99325211289065</td>\n",
       "    </tr>\n",
       "    <tr>\n",
       "      <th>KADIKÖY-1</th>\n",
       "      <td>40.99098891945888</td>\n",
       "      <td>29.02211572735011</td>\n",
       "    </tr>\n",
       "    <tr>\n",
       "      <th>KADIKÖY-2</th>\n",
       "      <td>40.99126123485841</td>\n",
       "      <td>29.02378422054707</td>\n",
       "    </tr>\n",
       "    <tr>\n",
       "      <th>KARAKÖY</th>\n",
       "      <td>41.02205353005713</td>\n",
       "      <td>28.97590906576235</td>\n",
       "    </tr>\n",
       "    <tr>\n",
       "      <th>KARAKÖY-2</th>\n",
       "      <td>41.02151363263756</td>\n",
       "      <td>28.97517820592657</td>\n",
       "    </tr>\n",
       "    <tr>\n",
       "      <th>MODA</th>\n",
       "      <td>40.97875652067077</td>\n",
       "      <td>29.02468630924241</td>\n",
       "    </tr>\n",
       "    <tr>\n",
       "      <th>AYVANSARAY</th>\n",
       "      <td>41.04102545236506</td>\n",
       "      <td>28.94481397672518</td>\n",
       "    </tr>\n",
       "    <tr>\n",
       "      <th>BALAT</th>\n",
       "      <td>41.03490189638919</td>\n",
       "      <td>28.9489827381236</td>\n",
       "    </tr>\n",
       "    <tr>\n",
       "      <th>EMİNÖNÜ HALİÇ</th>\n",
       "      <td>41.0211343157203</td>\n",
       "      <td>28.97000636016617</td>\n",
       "    </tr>\n",
       "    <tr>\n",
       "      <th>EYÜP SULTAN</th>\n",
       "      <td>41.04757324587808</td>\n",
       "      <td>28.93772446962244</td>\n",
       "    </tr>\n",
       "    <tr>\n",
       "      <th>FENER</th>\n",
       "      <td>41.03107257160582</td>\n",
       "      <td>28.95264940277138</td>\n",
       "    </tr>\n",
       "    <tr>\n",
       "      <th>HASKÖY</th>\n",
       "      <td>41.04051288073612</td>\n",
       "      <td>28.94926476460193</td>\n",
       "    </tr>\n",
       "    <tr>\n",
       "      <th>KASIMPAŞA</th>\n",
       "      <td>41.03131436574518</td>\n",
       "      <td>28.96666648551811</td>\n",
       "    </tr>\n",
       "    <tr>\n",
       "      <th>BURGAZADA</th>\n",
       "      <td>40.88083696839017</td>\n",
       "      <td>29.0708695046941</td>\n",
       "    </tr>\n",
       "    <tr>\n",
       "      <th>BÜYÜKADA</th>\n",
       "      <td>40.87475134443311</td>\n",
       "      <td>29.12813034722439</td>\n",
       "    </tr>\n",
       "    <tr>\n",
       "      <th>HEYBELİADA</th>\n",
       "      <td>40.87685067073806</td>\n",
       "      <td>29.10184455874158</td>\n",
       "    </tr>\n",
       "    <tr>\n",
       "      <th>KINALIADA</th>\n",
       "      <td>40.91075322405018</td>\n",
       "      <td>29.05567810817001</td>\n",
       "    </tr>\n",
       "    <tr>\n",
       "      <th>ANADOLU HİSARI</th>\n",
       "      <td>41.08327321020175</td>\n",
       "      <td>29.06650927746919</td>\n",
       "    </tr>\n",
       "    <tr>\n",
       "      <th>ANADOLU KAVAĞI</th>\n",
       "      <td>41.17339973246317</td>\n",
       "      <td>29.08815820188919</td>\n",
       "    </tr>\n",
       "    <tr>\n",
       "      <th>ARNAVUTKÖY</th>\n",
       "      <td>41.06747056088449</td>\n",
       "      <td>29.04379430703303</td>\n",
       "    </tr>\n",
       "    <tr>\n",
       "      <th>BEBEK</th>\n",
       "      <td>41.07648766882446</td>\n",
       "      <td>29.04447234160673</td>\n",
       "    </tr>\n",
       "    <tr>\n",
       "      <th>BEYKOZ</th>\n",
       "      <td>41.13457017659933</td>\n",
       "      <td>29.09031673327758</td>\n",
       "    </tr>\n",
       "    <tr>\n",
       "      <th>BEYLERBEYİ</th>\n",
       "      <td>41.04512989629014</td>\n",
       "      <td>29.04450797208214</td>\n",
       "    </tr>\n",
       "    <tr>\n",
       "      <th>BÜYÜKDERE</th>\n",
       "      <td>41.16100728674086</td>\n",
       "      <td>29.04606613041452</td>\n",
       "    </tr>\n",
       "    <tr>\n",
       "      <th>ÇENGELKÖY</th>\n",
       "      <td>41.05105361549738</td>\n",
       "      <td>29.05140942518369</td>\n",
       "    </tr>\n",
       "    <tr>\n",
       "      <th>ÇUBUKLU</th>\n",
       "      <td>41.10806590474426</td>\n",
       "      <td>29.08036763314571</td>\n",
       "    </tr>\n",
       "    <tr>\n",
       "      <th>EMİRGAN</th>\n",
       "      <td>41.10234427582056</td>\n",
       "      <td>29.05601828940763</td>\n",
       "    </tr>\n",
       "    <tr>\n",
       "      <th>ÇUBUKLU ARABALI</th>\n",
       "      <td>41.10843976537936</td>\n",
       "      <td>29.08336994355603</td>\n",
       "    </tr>\n",
       "    <tr>\n",
       "      <th>İSTİNYE</th>\n",
       "      <td>41.11355271194248</td>\n",
       "      <td>29.06149478160335</td>\n",
       "    </tr>\n",
       "    <tr>\n",
       "      <th>KANDİLLİ</th>\n",
       "      <td>41.07519403293655</td>\n",
       "      <td>29.05871912597904</td>\n",
       "    </tr>\n",
       "    <tr>\n",
       "      <th>KANLICA</th>\n",
       "      <td>41.10057261365996</td>\n",
       "      <td>29.06514485591157</td>\n",
       "    </tr>\n",
       "    <tr>\n",
       "      <th>KUZGUNCUK</th>\n",
       "      <td>41.03754893466842</td>\n",
       "      <td>29.02959157330829</td>\n",
       "    </tr>\n",
       "    <tr>\n",
       "      <th>KÜÇÜKSU</th>\n",
       "      <td>41.07998007417348</td>\n",
       "      <td>29.06556097427824</td>\n",
       "    </tr>\n",
       "    <tr>\n",
       "      <th>ORTAKÖY</th>\n",
       "      <td>41.04749608425514</td>\n",
       "      <td>29.02592863087842</td>\n",
       "    </tr>\n",
       "    <tr>\n",
       "      <th>POYRAZ</th>\n",
       "      <td>41.20647961479241</td>\n",
       "      <td>29.13087554026528</td>\n",
       "    </tr>\n",
       "    <tr>\n",
       "      <th>PAŞABAHÇE</th>\n",
       "      <td>41.11792570430826</td>\n",
       "      <td>29.09328437602442</td>\n",
       "    </tr>\n",
       "    <tr>\n",
       "      <th>RUMELİ KAVAĞI</th>\n",
       "      <td>41.18247621378024</td>\n",
       "      <td>29.0748362250914</td>\n",
       "    </tr>\n",
       "    <tr>\n",
       "      <th>SARIYER</th>\n",
       "      <td>41.16629742338651</td>\n",
       "      <td>29.05750082659019</td>\n",
       "    </tr>\n",
       "  </tbody>\n",
       "</table>\n",
       "</div>"
      ],
      "text/plain": [
       "                         Latitudes         Longitudes\n",
       "Names                                                \n",
       "MALTEPE          40.91681013544846  29.13060758098593\n",
       "AHIRKAPI         41.00314456999032  28.98289668101853\n",
       "BEŞİKTAŞ-1       41.04116198628195  29.00778819900819\n",
       "BEŞİKTAŞ-2       41.04065414312002   29.0055048939288\n",
       "BOSTANCI         40.95173395654253  29.09425745312653\n",
       "EMİNÖNÜ-1        41.01495987953694  28.97621869809887\n",
       "EMİNÖNÜ-2        41.01495987953694  28.97621869809887\n",
       "EMİNÖNÜ-3        41.01488637107048  28.97495985342729\n",
       "EMİNÖNÜ-4        41.01488637107048  28.97495985342729\n",
       "HAYDARPAŞA       40.99577360085738  29.01810215560077\n",
       "KABATAŞ          41.03138737936629  28.99325211289065\n",
       "KADIKÖY-1        40.99098891945888  29.02211572735011\n",
       "KADIKÖY-2        40.99126123485841  29.02378422054707\n",
       "KARAKÖY          41.02205353005713  28.97590906576235\n",
       "KARAKÖY-2        41.02151363263756  28.97517820592657\n",
       "MODA             40.97875652067077  29.02468630924241\n",
       "AYVANSARAY       41.04102545236506  28.94481397672518\n",
       "BALAT            41.03490189638919   28.9489827381236\n",
       "EMİNÖNÜ HALİÇ     41.0211343157203  28.97000636016617\n",
       "EYÜP SULTAN      41.04757324587808  28.93772446962244\n",
       "FENER            41.03107257160582  28.95264940277138\n",
       "HASKÖY           41.04051288073612  28.94926476460193\n",
       "KASIMPAŞA        41.03131436574518  28.96666648551811\n",
       "BURGAZADA        40.88083696839017   29.0708695046941\n",
       "BÜYÜKADA         40.87475134443311  29.12813034722439\n",
       "HEYBELİADA       40.87685067073806  29.10184455874158\n",
       "KINALIADA        40.91075322405018  29.05567810817001\n",
       "ANADOLU HİSARI   41.08327321020175  29.06650927746919\n",
       "ANADOLU KAVAĞI   41.17339973246317  29.08815820188919\n",
       "ARNAVUTKÖY       41.06747056088449  29.04379430703303\n",
       "BEBEK            41.07648766882446  29.04447234160673\n",
       "BEYKOZ           41.13457017659933  29.09031673327758\n",
       "BEYLERBEYİ       41.04512989629014  29.04450797208214\n",
       "BÜYÜKDERE        41.16100728674086  29.04606613041452\n",
       "ÇENGELKÖY        41.05105361549738  29.05140942518369\n",
       "ÇUBUKLU          41.10806590474426  29.08036763314571\n",
       "EMİRGAN          41.10234427582056  29.05601828940763\n",
       "ÇUBUKLU ARABALI  41.10843976537936  29.08336994355603\n",
       "İSTİNYE          41.11355271194248  29.06149478160335\n",
       "KANDİLLİ         41.07519403293655  29.05871912597904\n",
       "KANLICA          41.10057261365996  29.06514485591157\n",
       "KUZGUNCUK        41.03754893466842  29.02959157330829\n",
       "KÜÇÜKSU          41.07998007417348  29.06556097427824\n",
       "ORTAKÖY          41.04749608425514  29.02592863087842\n",
       "POYRAZ           41.20647961479241  29.13087554026528\n",
       "PAŞABAHÇE        41.11792570430826  29.09328437602442\n",
       "RUMELİ KAVAĞI    41.18247621378024   29.0748362250914\n",
       "SARIYER          41.16629742338651  29.05750082659019"
      ]
     },
     "execution_count": 5,
     "metadata": {},
     "output_type": "execute_result"
    }
   ],
   "source": [
    "final = {\"Names\":names,\"Latitudes\":latitudes,\"Longitudes\":longitudes}\n",
    "res = DataFrame(final)\n",
    "res.set_index(\"Names\",inplace=True)\n",
    "res"
   ]
  },
  {
   "cell_type": "markdown",
   "id": "03bde41e-8304-4e64-904c-ee9daa3a289f",
   "metadata": {
    "tags": []
   },
   "source": [
    "# Question 2\n",
    "\n",
    "For this question we are going to use Istanbul Municipality data at [this link](https://data.ibb.gov.tr/dataset/sehir-hatlari-sefer-sayilari). Data contains Istanbul Deniz Isletmeleri route information.\n",
    "\n",
    "1. Understand what the data is for, what it records, what it contains. Explain it in broad strokes.\n",
    "2. Extract the data about the number of trips between stations.\n",
    "2. Calculate the total number of trips in 2020,\n",
    "3. Calculate the total number of trips in 2021, \n",
    "4. Which is the busiest station in 2020 and 2021?\n",
    "\n",
    "For these questions you must extract the specific data you need from the raw data. Let me be very clear: I am not interested in the numerical answer, I'd like to see your data extraction and calculation explicitly. I need to see your code with which you extract the data, see the data frame where you record the extracted data, and the code where you group and calculate the required results."
   ]
  },
  {
   "cell_type": "markdown",
   "id": "fc3e5f7f-6b13-427b-b2bc-b85c2096c544",
   "metadata": {},
   "source": [
    "Reading datas"
   ]
  },
  {
   "cell_type": "code",
   "execution_count": 6,
   "id": "3be723b7-42b5-42ed-80ac-5885860b24ba",
   "metadata": {},
   "outputs": [],
   "source": [
    "with urlopen(\"https://data.ibb.gov.tr/dataset/4be0d5f6-62de-4a24-a6a5-038009cde39f/resource/f1f95d5d-fa2f-479d-9d50-85ca1d604c1e/download/2020-yl-ehir-hatlar-sefer-saylar.csv\") as url:\n",
    "    df2020 = pd.read_csv(url, encoding='latin-1',sep=';')\n",
    "with urlopen(\"https://data.ibb.gov.tr/dataset/4be0d5f6-62de-4a24-a6a5-038009cde39f/resource/d2c7e4c3-fd09-4952-8a8e-776e3accf91d/download/2021-yl-ehir-hatlar-sefer-saylar.csv\") as url:\n",
    "    df2021 = pd.read_csv(url, encoding='latin-1',sep=';')"
   ]
  },
  {
   "cell_type": "markdown",
   "id": "fc95b299-659b-4c8e-a366-ecbc4b8da9eb",
   "metadata": {},
   "source": [
    "We make the column names of the data the same.\n",
    "Then we find the total number of trips with sum()."
   ]
  },
  {
   "cell_type": "code",
   "execution_count": 7,
   "id": "8a8576d1-ff74-46a0-8139-d6769fbbf9fc",
   "metadata": {},
   "outputs": [
    {
     "name": "stdout",
     "output_type": "stream",
     "text": [
      "Total trips in 2020 : 5851.006\n",
      "Total trips in 2021 : 8956.095\n"
     ]
    }
   ],
   "source": [
    "df2021.keys()\n",
    "df2020.keys()\n",
    "df2020 = df2020.rename(columns={'YIL':'Yil','GÜZERGAH':'Guzergah','TOPLAM SEFER ADETÝ':'Toplam Sefer Adeti'})\n",
    "totalnumber2020 = df2020['Toplam Sefer Adeti'].sum(axis = 0)\n",
    "totalnumber2021 =  df2021['Toplam Sefer Adeti'].sum(axis = 0)\n",
    "print(\"Total trips in 2020 : \" + str(totalnumber2020))\n",
    "print(\"Total trips in 2021 : \" + str(totalnumber2021))"
   ]
  },
  {
   "cell_type": "markdown",
   "id": "324a1c31-9af8-4be7-a83d-8ad1406bbc40",
   "metadata": {},
   "source": [
    "We print the information of the stations with the most trips."
   ]
  },
  {
   "cell_type": "code",
   "execution_count": 8,
   "id": "aa06059d-782a-44e5-b304-0fc42858a457",
   "metadata": {},
   "outputs": [
    {
     "name": "stdout",
     "output_type": "stream",
     "text": [
      "Busiest station in 2020: \n",
      "Yil                                                                2020\n",
      "Guzergah              SARIYER - MUHTELÝF BOÐAZ - EMÝNÖNÜ (SARIYER - ...\n",
      "Toplam Sefer Adeti                                                795.0\n",
      "Name: 26, dtype: object\n",
      "Busiest station in 2021: \n",
      "Yil                                                 2021.0\n",
      "Guzergah              BEBEK-ANADOLU HÝSARI-KANLICA-EMÝRGAN\n",
      "Toplam Sefer Adeti                                   969.0\n",
      "Name: 22, dtype: object\n"
     ]
    }
   ],
   "source": [
    "busieststation2020 = df2020.loc[df2020[\"Toplam Sefer Adeti\"].idxmax()]\n",
    "print(\"Busiest station in 2020: \\n\" + str(busieststation2020))\n",
    "busieststation2021 = df2021.loc[df2021[\"Toplam Sefer Adeti\"].idxmax()]\n",
    "print(\"Busiest station in 2021: \\n\" + str(busieststation2021))"
   ]
  },
  {
   "cell_type": "markdown",
   "id": "81cef06b-045e-488a-9b64-e6466626624f",
   "metadata": {
    "tags": []
   },
   "source": [
    "#### From here on, I guessed because I did not understand exactly what was asked in q2.5."
   ]
  },
  {
   "cell_type": "markdown",
   "id": "6e8799ba-b952-4de7-bd49-e611bc97fd21",
   "metadata": {},
   "source": [
    "İmporting libraries and organizing the data"
   ]
  },
  {
   "cell_type": "code",
   "execution_count": 9,
   "id": "80939618-147b-4dcc-8519-4807de26f37a",
   "metadata": {},
   "outputs": [
    {
     "name": "stderr",
     "output_type": "stream",
     "text": [
      "C:\\Users\\emirt\\AppData\\Local\\Temp/ipykernel_20064/3220904543.py:4: FutureWarning: The default value of regex will change from True to False in a future version. In addition, single character regular expressions will *not* be treated as literal strings when regex=True.\n",
      "  df2020['Guzergah'] = df2020['Guzergah'].str.replace('(','')\n",
      "C:\\Users\\emirt\\AppData\\Local\\Temp/ipykernel_20064/3220904543.py:5: FutureWarning: The default value of regex will change from True to False in a future version. In addition, single character regular expressions will *not* be treated as literal strings when regex=True.\n",
      "  df2020['Guzergah'] = df2020['Guzergah'].str.replace(')','')\n"
     ]
    }
   ],
   "source": [
    "from collections import Counter\n",
    "import operator\n",
    "df2020['Guzergah'] = df2020['Guzergah'].str.replace(' ','')\n",
    "df2020['Guzergah'] = df2020['Guzergah'].str.replace('(','')\n",
    "df2020['Guzergah'] = df2020['Guzergah'].str.replace(')','')\n",
    "df2020['Guzergah'] = df2020['Guzergah'].str.replace('BOĞAZGİDİŞGELİŞ','')\n",
    "df2020 = df2020.dropna()"
   ]
  },
  {
   "cell_type": "markdown",
   "id": "9297b24c-5035-4b98-b594-927719cb618a",
   "metadata": {},
   "source": [
    "Here we count how many different trips each station makes."
   ]
  },
  {
   "cell_type": "code",
   "execution_count": 10,
   "id": "f9fc36aa-08c0-416b-8ca6-323ddf0891d6",
   "metadata": {},
   "outputs": [
    {
     "name": "stdout",
     "output_type": "stream",
     "text": [
      "{'BEÞÝKTAÞ': 12, 'KADIKÖY': 8, 'KARAKÖY': 6, 'EMÝNÖNÜ': 10, 'ÜSKÜDAR': 4, 'KABATAÞ': 3, 'ADALAR': 4, 'BOSTANCI': 5, 'ÝSTANBUL': 1, 'BOÐAZGÝDÝÞGELÝÞEMÝNÖNÜ': 2, 'KUZGUNCUK': 2, 'BEYLERBEYÝ': 4, 'ÇENGELKÖY': 5, 'ARNAVUTKÖY': 2, 'ORTAKÖY': 1, 'EMÝRGAN': 2, 'PAÞABAHÇE': 2, 'BEYKOZ': 5, 'KASIMPAÞA': 1, 'FENER': 1, 'BALAT': 1, 'HASKÖY': 1, 'AYVANSARAY': 1, 'SÜTLÜCE': 1, 'EYÜP': 1, 'EMÝRGANLALESEFERLERÝ': 1, 'BÜYÜKADA': 5, 'HEYBELÝADA': 2, 'KINALIADARÝNG': 1, 'MUHTELÝFÝSK.': 3, 'A.HÝSARI': 2, 'A.KAVAÐI': 2, 'R.KAVAÐI': 1, 'SARIYER': 4, 'BEBEK': 1, 'KANLICA': 2, 'ÝSTÝNYE': 5, 'KÜÇÜKSU': 2, 'MUHTELÝFBOÐAZ': 2, 'EMÝNÖNÜSARIYER': 1, 'SEDEFADASI': 1, 'ÇUBUKLU': 1, 'ÜSKÜDARKIYIYAPARALEL': 1, 'RUMELÝKAVAÐI': 1, 'EMÝNÖNÜKIYIYAPARALEL': 1}\n"
     ]
    }
   ],
   "source": [
    "results = Counter()\n",
    "df2020['Guzergah'].str.upper().str.split('-').apply(results.update)\n",
    "dict1 = dict(results)\n",
    "print(dict1)"
   ]
  },
  {
   "cell_type": "markdown",
   "id": "d3eb6b74-a89b-442a-896e-c9e063419f59",
   "metadata": {},
   "source": [
    "Here, we filter by stations and count how many trips each station makes. Then, we create a new dict and print the number of trips made by that station."
   ]
  },
  {
   "cell_type": "code",
   "execution_count": 11,
   "id": "31505858-6129-4c3d-8872-63a4d058dead",
   "metadata": {},
   "outputs": [],
   "source": [
    "d1 = { 'a' : 0 }\n",
    "i = 0;\n",
    "for k in dict1.keys():\n",
    "    df3 = df2020[df2020[\"Guzergah\"].str.contains(k)]\n",
    "    i = df3['Toplam Sefer Adeti'].sum(axis = 0, skipna = False)\n",
    "    d2 = { k: i }\n",
    "    d1.update(d2)"
   ]
  },
  {
   "cell_type": "markdown",
   "id": "5aecc8c2-ee80-41db-b79f-842027bdfab1",
   "metadata": {},
   "source": [
    "We draw the max ones among these values ​​and print them."
   ]
  },
  {
   "cell_type": "code",
   "execution_count": 12,
   "id": "d6e653eb-746c-4b10-8b03-a6a71ff310d7",
   "metadata": {},
   "outputs": [
    {
     "name": "stdout",
     "output_type": "stream",
     "text": [
      "The busiest station in 2021 with 3797 trips is EMÝNÖNÜ\n"
     ]
    }
   ],
   "source": [
    "del d1[\"a\"]\n",
    "all_values = d1.values()\n",
    "max_value = max(all_values)\n",
    "maxkey = max(d1.items(), key=operator.itemgetter(1))[0]\n",
    "maxvalue = max(d1.items(), key=operator.itemgetter(1))[1]\n",
    "print(\"The busiest station in 2021 with %d trips is %s\" %(maxvalue,maxkey))"
   ]
  },
  {
   "cell_type": "markdown",
   "id": "8b3be09d-adf1-4631-b91a-b579d0813ba6",
   "metadata": {},
   "source": [
    "I'm doing the same thing I did for df2020."
   ]
  },
  {
   "cell_type": "code",
   "execution_count": 13,
   "id": "15332b32-0a83-44ec-9fb7-25b3ef104ac3",
   "metadata": {},
   "outputs": [
    {
     "name": "stdout",
     "output_type": "stream",
     "text": [
      "The busiest station in 2021 with 5263 trips is BEÞÝKTAÞ\n"
     ]
    },
    {
     "name": "stderr",
     "output_type": "stream",
     "text": [
      "C:\\Users\\emirt\\AppData\\Local\\Temp/ipykernel_20064/2021317609.py:3: FutureWarning: The default value of regex will change from True to False in a future version. In addition, single character regular expressions will *not* be treated as literal strings when regex=True.\n",
      "  df2021['Guzergah'] = df2021['Guzergah'].str.replace('(','')\n",
      "C:\\Users\\emirt\\AppData\\Local\\Temp/ipykernel_20064/2021317609.py:4: FutureWarning: The default value of regex will change from True to False in a future version. In addition, single character regular expressions will *not* be treated as literal strings when regex=True.\n",
      "  df2021['Guzergah'] = df2021['Guzergah'].str.replace(')','')\n"
     ]
    }
   ],
   "source": [
    "df2021 = df2021.dropna()\n",
    "df2021['Guzergah'] = df2021['Guzergah'].str.replace(' ','')\n",
    "df2021['Guzergah'] = df2021['Guzergah'].str.replace('(','')\n",
    "df2021['Guzergah'] = df2021['Guzergah'].str.replace(')','')\n",
    "df2021['Guzergah'] = df2021['Guzergah'].str.replace('BOĞAZGİDİŞGELİŞ','')\n",
    "results = Counter()\n",
    "df2021['Guzergah'].str.upper().str.split('-').apply(results.update)\n",
    "dict1 = dict(results)\n",
    "#We drew from our table how many trips all stations have.\n",
    "d1 = { 'a' : 0 }\n",
    "i = 0;\n",
    "for k in dict1.keys():\n",
    "    df2 = df2021[df2021[\"Guzergah\"].str.contains(k)]\n",
    "    i = df2['Toplam Sefer Adeti'].sum(axis = 0, skipna = False)\n",
    "    d2 = { k: i }\n",
    "    d1.update(d2)\n",
    "del d1[\"a\"]\n",
    "#We pulled all values and the largest value from the table.\n",
    "all_values = d1.values()\n",
    "max_value = max(all_values)\n",
    "maxkey = max(d1.items(), key=operator.itemgetter(1))[0]\n",
    "maxvalue = max(d1.items(), key=operator.itemgetter(1))[1]\n",
    "print(\"The busiest station in 2021 with %d trips is %s\" %(maxvalue,maxkey))\n",
    "del d1\n",
    "del i\n",
    "del df2\n",
    "del d2"
   ]
  },
  {
   "cell_type": "markdown",
   "id": "e48bbffc-c1a1-43b6-a32b-77c1446c59ef",
   "metadata": {},
   "source": [
    "# Question 3\n",
    "\n",
    "Using a different [dataset](https://data.ibb.gov.tr/dataset/istanbul-deniz-iskeleleri-yolcu-sayilari) again from Istanbul Municipality on Istanbul Deniz Isletmeleri: \n",
    "\n",
    "1. Understand what the data is for, what it records, what it contains. Explain it in broad strokes.\n",
    "2. Find out the busiest station in the years 2020 and 2021,\n",
    "3. Repeat the same calculation monthly: find the busiest stations for each month.\n",
    "4. Does your calculation of busiest stations agree with the calculation you made in Question #2? Explain.\n"
   ]
  },
  {
   "cell_type": "markdown",
   "id": "8d4f0505-43df-4290-837a-a4107405c904",
   "metadata": {},
   "source": [
    "Reading data"
   ]
  },
  {
   "cell_type": "code",
   "execution_count": 4,
   "id": "48b9b315-0f63-4186-9e64-5d7899e6c54c",
   "metadata": {},
   "outputs": [],
   "source": [
    "with urlopen(\"https://data.ibb.gov.tr/dataset/20f33ff0-1ab3-4378-9998-486e28242f48/resource/6fbdd928-8c37-43a4-8e6a-ba0fa7f767fb/download/istanbul-deniz-iskeleleri-yolcu-saylar.csv\") as url:\n",
    "    dfq3 = pd.read_csv(url, encoding='latin-1',sep=';')"
   ]
  },
  {
   "cell_type": "markdown",
   "id": "f4027f36-ec85-4198-9ea4-ffea528f0990",
   "metadata": {},
   "source": [
    "We're trying to find the busiest station in 2020. But we do not have data for 2020."
   ]
  },
  {
   "cell_type": "code",
   "execution_count": 5,
   "id": "cbcf8151-b903-4e6d-aefc-e310e712e9dd",
   "metadata": {},
   "outputs": [
    {
     "data": {
      "text/html": [
       "<div>\n",
       "<style scoped>\n",
       "    .dataframe tbody tr th:only-of-type {\n",
       "        vertical-align: middle;\n",
       "    }\n",
       "\n",
       "    .dataframe tbody tr th {\n",
       "        vertical-align: top;\n",
       "    }\n",
       "\n",
       "    .dataframe thead th {\n",
       "        text-align: right;\n",
       "    }\n",
       "</style>\n",
       "<table border=\"1\" class=\"dataframe\">\n",
       "  <thead>\n",
       "    <tr style=\"text-align: right;\">\n",
       "      <th></th>\n",
       "      <th></th>\n",
       "      <th>Yil</th>\n",
       "      <th>Ay</th>\n",
       "      <th>Yolcu Sayisi</th>\n",
       "    </tr>\n",
       "    <tr>\n",
       "      <th>Istasyon Adi</th>\n",
       "      <th>Otorite Adi</th>\n",
       "      <th></th>\n",
       "      <th></th>\n",
       "      <th></th>\n",
       "    </tr>\n",
       "  </thead>\n",
       "  <tbody>\n",
       "  </tbody>\n",
       "</table>\n",
       "</div>"
      ],
      "text/plain": [
       "Empty DataFrame\n",
       "Columns: [Yil, Ay, Yolcu Sayisi]\n",
       "Index: []"
      ]
     },
     "execution_count": 5,
     "metadata": {},
     "output_type": "execute_result"
    }
   ],
   "source": [
    "dfq3max = dfq3[dfq3['Yil']==2020].groupby(['Istasyon Adi','Otorite Adi']).sum()\n",
    "dfq3max"
   ]
  },
  {
   "cell_type": "markdown",
   "id": "083ee5f9-0575-4f6b-9e24-a7b136073399",
   "metadata": {},
   "source": [
    "We do the same for 2021."
   ]
  },
  {
   "cell_type": "code",
   "execution_count": 10,
   "id": "2e39c9f6-a1cb-4027-817b-578aeca359cf",
   "metadata": {},
   "outputs": [
    {
     "name": "stdout",
     "output_type": "stream",
     "text": [
      "Istasyon Adi  Otorite Adi                                        \n",
      "BESIKTAS      DENTUR - AVRASYA DENÝZ TAÞ.TUR.HÝZ.ÝNÞ.SAN.TÝC. AÞ.    3880924\n",
      "Name: Yolcu Sayisi, dtype: int64\n"
     ]
    }
   ],
   "source": [
    "dfq3max1 = dfq3.groupby(['Istasyon Adi','Otorite Adi']).sum()\n",
    "val=dfq3max1['Yolcu Sayisi'].max()\n",
    "print(dfq3max1['Yolcu Sayisi'][dfq3max1['Yolcu Sayisi']==val])"
   ]
  },
  {
   "cell_type": "markdown",
   "id": "f692e44e-e4a1-456e-9564-e61f66e4c084",
   "metadata": {},
   "source": [
    "By putting it into the for loop according to the months, we find the station with the maximum number of passengers in the months and print it."
   ]
  },
  {
   "cell_type": "code",
   "execution_count": 30,
   "id": "d8290315-977c-48ce-b6c3-59e151e1c16a",
   "metadata": {},
   "outputs": [
    {
     "data": {
      "text/plain": [
       "[Ay  Istasyon Adi  Otorite Adi                                        \n",
       " 3   BESIKTAS      DENTUR - AVRASYA DENÝZ TAÞ.TUR.HÝZ.ÝNÞ.SAN.TÝC. AÞ.    106334\n",
       " Name: Yolcu Sayisi, dtype: int64,\n",
       " Ay  Istasyon Adi  Otorite Adi                                        \n",
       " 4   BESIKTAS      DENTUR - AVRASYA DENÝZ TAÞ.TUR.HÝZ.ÝNÞ.SAN.TÝC. AÞ.    274984\n",
       " Name: Yolcu Sayisi, dtype: int64,\n",
       " Ay  Istasyon Adi  Otorite Adi                                        \n",
       " 5   BESIKTAS      DENTUR - AVRASYA DENÝZ TAÞ.TUR.HÝZ.ÝNÞ.SAN.TÝC. AÞ.    205662\n",
       " Name: Yolcu Sayisi, dtype: int64,\n",
       " Ay  Istasyon Adi  Otorite Adi                                        \n",
       " 6   BESIKTAS      DENTUR - AVRASYA DENÝZ TAÞ.TUR.HÝZ.ÝNÞ.SAN.TÝC. AÞ.    488048\n",
       " Name: Yolcu Sayisi, dtype: int64,\n",
       " Ay  Istasyon Adi  Otorite Adi                                        \n",
       " 7   BESIKTAS      DENTUR - AVRASYA DENÝZ TAÞ.TUR.HÝZ.ÝNÞ.SAN.TÝC. AÞ.    590792\n",
       " Name: Yolcu Sayisi, dtype: int64,\n",
       " Ay  Istasyon Adi  Otorite Adi                                        \n",
       " 8   BESIKTAS      DENTUR - AVRASYA DENÝZ TAÞ.TUR.HÝZ.ÝNÞ.SAN.TÝC. AÞ.    601089\n",
       " Name: Yolcu Sayisi, dtype: int64,\n",
       " Ay  Istasyon Adi  Otorite Adi                                        \n",
       " 9   BESIKTAS      DENTUR - AVRASYA DENÝZ TAÞ.TUR.HÝZ.ÝNÞ.SAN.TÝC. AÞ.    633355\n",
       " Name: Yolcu Sayisi, dtype: int64,\n",
       " Ay  Istasyon Adi  Otorite Adi                                        \n",
       " 10  BESIKTAS      DENTUR - AVRASYA DENÝZ TAÞ.TUR.HÝZ.ÝNÞ.SAN.TÝC. AÞ.    757374\n",
       " Name: Yolcu Sayisi, dtype: int64,\n",
       " Ay  Istasyon Adi  Otorite Adi                                        \n",
       " 11  BESIKTAS      DENTUR - AVRASYA DENÝZ TAÞ.TUR.HÝZ.ÝNÞ.SAN.TÝC. AÞ.    223286\n",
       " Name: Yolcu Sayisi, dtype: int64]"
      ]
     },
     "execution_count": 30,
     "metadata": {},
     "output_type": "execute_result"
    }
   ],
   "source": [
    "p=[]\n",
    "for i in range(dfq3['Ay'].min(),dfq3['Ay'].max()+1):\n",
    "    dfq33=dfq3[dfq3['Ay']==i].groupby(['Ay','Istasyon Adi','Otorite Adi']).sum()\n",
    "    val=dfq33['Yolcu Sayisi'].max()\n",
    "    p.append(dfq33['Yolcu Sayisi'][dfq33['Yolcu Sayisi']==val])\n",
    "p"
   ]
  }
 ],
 "metadata": {
  "kernelspec": {
   "display_name": "Python 3 (ipykernel)",
   "language": "python",
   "name": "python3"
  },
  "language_info": {
   "codemirror_mode": {
    "name": "ipython",
    "version": 3
   },
   "file_extension": ".py",
   "mimetype": "text/x-python",
   "name": "python",
   "nbconvert_exporter": "python",
   "pygments_lexer": "ipython3",
   "version": "3.9.7"
  }
 },
 "nbformat": 4,
 "nbformat_minor": 5
}
